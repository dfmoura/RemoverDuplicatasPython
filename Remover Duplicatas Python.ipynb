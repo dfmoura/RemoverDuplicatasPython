{
 "cells": [
  {
   "cell_type": "markdown",
   "id": "3fbbc4e2",
   "metadata": {},
   "source": [
    "### Remover Duplicatas Python"
   ]
  },
  {
   "cell_type": "code",
   "execution_count": 2,
   "id": "624ed895",
   "metadata": {},
   "outputs": [],
   "source": [
    "lista = [5, 5, 4, 4, 3, 3, 2, 2, 1, 1]"
   ]
  },
  {
   "cell_type": "markdown",
   "id": "2da44999",
   "metadata": {},
   "source": [
    "### Forma mais simples: set\n",
    "- set é uma lista que só pode ter valores únicos, sem valores duplicados."
   ]
  },
  {
   "cell_type": "code",
   "execution_count": 4,
   "id": "ddd626fd",
   "metadata": {},
   "outputs": [
    {
     "name": "stdout",
     "output_type": "stream",
     "text": [
      "[1, 2, 3, 4, 5]\n"
     ]
    }
   ],
   "source": [
    "lista = list(set(lista))\n",
    "print(lista)"
   ]
  },
  {
   "cell_type": "markdown",
   "id": "4f6ee47a",
   "metadata": {},
   "source": [
    "### Se a ordem importa: dict.fromkeys\n",
    "- Ao inves de transformar sua lista em um set você pode transformar a lista em uma chave de um dicionário"
   ]
  },
  {
   "cell_type": "code",
   "execution_count": 7,
   "id": "5b9a5dab",
   "metadata": {},
   "outputs": [
    {
     "name": "stdout",
     "output_type": "stream",
     "text": [
      "[5, 4, 3, 2, 1]\n"
     ]
    }
   ],
   "source": [
    "lista = [5, 5, 4, 4, 3, 3, 2, 2, 1, 1]\n",
    "lista = list(dict.fromkeys(lista))\n",
    "print(lista)"
   ]
  },
  {
   "cell_type": "markdown",
   "id": "4e007cdc",
   "metadata": {},
   "source": [
    "### Se for em um arquivo de dados"
   ]
  },
  {
   "cell_type": "code",
   "execution_count": 13,
   "id": "f5b1a527",
   "metadata": {},
   "outputs": [
    {
     "data": {
      "text/html": [
       "<div>\n",
       "<style scoped>\n",
       "    .dataframe tbody tr th:only-of-type {\n",
       "        vertical-align: middle;\n",
       "    }\n",
       "\n",
       "    .dataframe tbody tr th {\n",
       "        vertical-align: top;\n",
       "    }\n",
       "\n",
       "    .dataframe thead th {\n",
       "        text-align: right;\n",
       "    }\n",
       "</style>\n",
       "<table border=\"1\" class=\"dataframe\">\n",
       "  <thead>\n",
       "    <tr style=\"text-align: right;\">\n",
       "      <th></th>\n",
       "      <th>Produto</th>\n",
       "      <th>Preco</th>\n",
       "    </tr>\n",
       "  </thead>\n",
       "  <tbody>\n",
       "    <tr>\n",
       "      <th>2</th>\n",
       "      <td>ipad</td>\n",
       "      <td>9000</td>\n",
       "    </tr>\n",
       "    <tr>\n",
       "      <th>3</th>\n",
       "      <td>airpod</td>\n",
       "      <td>2000</td>\n",
       "    </tr>\n",
       "    <tr>\n",
       "      <th>4</th>\n",
       "      <td>iphone</td>\n",
       "      <td>5700</td>\n",
       "    </tr>\n",
       "  </tbody>\n",
       "</table>\n",
       "</div>"
      ],
      "text/plain": [
       "  Produto  Preco\n",
       "2    ipad   9000\n",
       "3  airpod   2000\n",
       "4  iphone   5700"
      ]
     },
     "metadata": {},
     "output_type": "display_data"
    }
   ],
   "source": [
    "import pandas as pd\n",
    "\n",
    "produtos = pd.read_csv(\"Produtos.csv\", sep=\";\")\n",
    "produtos = produtos.drop_duplicates(\"Produto\",keep=\"last\")\n",
    "# remove somente quando a linha inteira esta duplicada = produtos.drop_duplicates()\n",
    "# remove somente quando a linha inteira esta duplicada e mantem o primeiro registro = produtos.drop_duplicates(keep=\"first\")\n",
    "# remove somente quando a linha inteira esta duplicada e mantem o ultimo registro = produtos.drop_duplicates(keep=\"last\")\n",
    "# remove um registro quando determinada colula estiver duplicada = produtos.drop_duplicates(\"Produto\")\n",
    "# remove um registro quando um conjunto colulas estiver duplicada = produtos.drop_duplicates([\"Produto\",\"Preco\"])\n",
    "\n",
    "display(produtos)"
   ]
  },
  {
   "cell_type": "code",
   "execution_count": null,
   "id": "8b01adf7",
   "metadata": {},
   "outputs": [],
   "source": []
  }
 ],
 "metadata": {
  "kernelspec": {
   "display_name": "Python 3 (ipykernel)",
   "language": "python",
   "name": "python3"
  },
  "language_info": {
   "codemirror_mode": {
    "name": "ipython",
    "version": 3
   },
   "file_extension": ".py",
   "mimetype": "text/x-python",
   "name": "python",
   "nbconvert_exporter": "python",
   "pygments_lexer": "ipython3",
   "version": "3.9.12"
  }
 },
 "nbformat": 4,
 "nbformat_minor": 5
}
